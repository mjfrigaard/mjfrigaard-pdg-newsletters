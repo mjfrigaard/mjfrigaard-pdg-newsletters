{
 "cells": [
  {
   "cell_type": "markdown",
   "metadata": {},
   "source": [
    "# Stroop test data\n",
    "\n",
    "This is code to create: Stroop test data  \n",
    "Authored by and feedback to:  \n",
    "MIT License  \n",
    "Version: 1.0"
   ]
  },
  {
   "cell_type": "code",
   "execution_count": 4,
   "metadata": {},
   "outputs": [],
   "source": [
    "# packages ----------------------------------------------------------------\n",
    "\n",
    "library(tidyverse)\n",
    "library(datapasta)\n",
    "library(skimr)"
   ]
  },
  {
   "cell_type": "markdown",
   "metadata": {},
   "source": [
    "## Import the data\n",
    "\n",
    "The data from the [Stroop test](https://www.psytoolkit.org/experiment-library/experiment_stroop.html) are available below. Here is the meta data from the website.\n",
    "\n",
    "| Colum           | Meaning                                           |\n",
    "| -------------   | -------------                                     |\n",
    "| `block`         | name of block                                     |\n",
    "| `wrd_name`      | name of the word (e.g., \"yellow\")                 |\n",
    "| `wrd_color`     | the color the word is printed in (e.g., \"red\")    |\n",
    "| `color_match`   | Stroop color match (1=compatible, 0=incompatible) |\n",
    "| `row`           | tablerow number                                   |\n",
    "| `key_num`       | the pressed key number                            |\n",
    "| `status`        | Status (1=correct, 2=wrong, 3=timeout)            |\n",
    "| `resp_time_ms`  | Response time (milliseconds)                      |\n",
    "\n",
    "The data are imported with the `datapasta` package. Highlight the table, hit `cmd/ctrl + c`, then use `datapasta::tribble_paste()` to create the `StroopData` from the html. "
   ]
  },
  {
   "cell_type": "code",
   "execution_count": 17,
   "metadata": {},
   "outputs": [],
   "source": [
    "# import ------------------------------------------------------------------\n",
    "StroopDataRaw <- tibble::tribble(\n",
    "  ~`block`, ~`wrd_name`, ~`wrd_color`, ~color_match, ~row, ~key_num, ~status, ~resp_time_ms,\n",
    "  \"training\", \"yellow\", \"red\", 0, 4, 1, 1, 1441,\n",
    "  \"training\", \"red\", \"green\", 0, 6, 2, 1, 1306,\n",
    "  \"training\", \"green\", \"green\", 1, 10, 2, 1, 1416,\n",
    "  \"training\", \"green\", \"yellow\", 0, 9, 4, 1, 961,\n",
    "  \"training\", \"red\", \"blue\", 0, 7, 3, 1, 1461,\n",
    "  \"training\", \"blue\", \"red\", 0, 16, 1, 1, 828,\n",
    "  \"training\", \"red\", \"yellow\", 0, 5, 4, 1, 951,\n",
    "  \"training\", \"yellow\", \"blue\", 0, 3, 3, 1, 1171,\n",
    "  \"training\", \"blue\", \"yellow\", 0, 13, 4, 1, 824,\n",
    "  \"training\", \"yellow\", \"red\", 0, 4, 1, 1, 829,\n",
    "  \"training\", \"blue\", \"green\", 0, 14, 2, 1, 1023,\n",
    "  \"training\", \"yellow\", \"yellow\", 1, 1, 4, 1, 773,\n",
    "  \"training\", \"green\", \"red\", 0, 12, 1, 1, 961,\n",
    "  \"training\", \"green\", \"red\", 0, 12, 1, 1, 1215,\n",
    "  \"training\", \"blue\", \"red\", 0, 16, 1, 1, 1301,\n",
    "  \"training\", \"yellow\", \"red\", 0, 4, 1, 1, 824,\n",
    "  \"training\", \"blue\", \"green\", 0, 14, 2, 1, 888,\n",
    "  \"training\", \"red\", \"green\", 0, 6, 2, 1, 940,\n",
    "  \"training\", \"yellow\", \"green\", 0, 2, 2, 1, 651,\n",
    "  \"training\", \"red\", \"green\", 0, 6, 2, 1, 653,\n",
    "  \"training\", \"blue\", \"red\", 0, 16, 1, 1, 724,\n",
    "  \"training\", \"blue\", \"yellow\", 0, 13, 4, 1, 824,\n",
    "  \"training\", \"green\", \"blue\", 0, 11, 3, 1, 993,\n",
    "  \"training\", \"green\", \"green\", 1, 10, 2, 1, 964,\n",
    "  \"training\", \"yellow\", \"blue\", 0, 3, 3, 1, 1032,\n",
    "  \"training\", \"green\", \"blue\", 0, 11, 3, 1, 786,\n",
    "  \"training\", \"green\", \"yellow\", 0, 9, 4, 1, 799,\n",
    "  \"training\", \"green\", \"green\", 1, 10, 2, 1, 946,\n",
    "  \"training\", \"red\", \"red\", 1, 8, 1, 1, 715,\n",
    "  \"training\", \"green\", \"blue\", 0, 11, 2, 2, 816,\n",
    "  \"training\", \"yellow\", \"yellow\", 1, 1, 4, 1, 825,\n",
    "  \"training\", \"red\", \"yellow\", 0, 5, 4, 1, 893,\n",
    "  \"training\", \"green\", \"yellow\", 0, 9, 4, 1, 788,\n",
    "  \"training\", \"blue\", \"blue\", 1, 15, 3, 1, 964,\n",
    "  \"training\", \"red\", \"yellow\", 0, 5, 4, 1, 782,\n",
    "  \"training\", \"green\", \"blue\", 0, 11, 3, 1, 1186,\n",
    "  \"training\", \"green\", \"blue\", 0, 11, 3, 1, 1125,\n",
    "  \"training\", \"green\", \"red\", 0, 12, 1, 1, 727,\n",
    "  \"training\", \"blue\", \"green\", 0, 14, 2, 1, 1749,\n",
    "  \"training\", \"yellow\", \"blue\", 0, 3, 3, 1, 854)"
   ]
  },
  {
   "cell_type": "code",
   "execution_count": 18,
   "metadata": {},
   "outputs": [
    {
     "name": "stdout",
     "output_type": "stream",
     "text": [
      "Observations: 40\n",
      "Variables: 8\n",
      "$ block        \u001b[3m\u001b[38;5;246m<chr>\u001b[39m\u001b[23m \"training\", \"training\", \"training\", \"training\", \"trainin…\n",
      "$ wrd_name     \u001b[3m\u001b[38;5;246m<chr>\u001b[39m\u001b[23m \"yellow\", \"red\", \"green\", \"green\", \"red\", \"blue\", \"red\",…\n",
      "$ wrd_color    \u001b[3m\u001b[38;5;246m<chr>\u001b[39m\u001b[23m \"red\", \"green\", \"green\", \"yellow\", \"blue\", \"red\", \"yello…\n",
      "$ color_match  \u001b[3m\u001b[38;5;246m<dbl>\u001b[39m\u001b[23m 0, 0, 1, 0, 0, 0, 0, 0, 0, 0, 0, 1, 0, 0, 0, 0, 0, 0, 0,…\n",
      "$ row          \u001b[3m\u001b[38;5;246m<dbl>\u001b[39m\u001b[23m 4, 6, 10, 9, 7, 16, 5, 3, 13, 4, 14, 1, 12, 12, 16, 4, 1…\n",
      "$ key_num      \u001b[3m\u001b[38;5;246m<dbl>\u001b[39m\u001b[23m 1, 2, 2, 4, 3, 1, 4, 3, 4, 1, 2, 4, 1, 1, 1, 1, 2, 2, 2,…\n",
      "$ status       \u001b[3m\u001b[38;5;246m<dbl>\u001b[39m\u001b[23m 1, 1, 1, 1, 1, 1, 1, 1, 1, 1, 1, 1, 1, 1, 1, 1, 1, 1, 1,…\n",
      "$ resp_time_ms \u001b[3m\u001b[38;5;246m<dbl>\u001b[39m\u001b[23m 1441, 1306, 1416, 961, 1461, 828, 951, 1171, 824, 829, 1…\n"
     ]
    }
   ],
   "source": [
    "StroopDataRaw %>% dplyr::glimpse()"
   ]
  },
  {
   "cell_type": "markdown",
   "metadata": {},
   "source": [
    "## Wrangle \n",
    "\n",
    "We can wrangle these data a little to make them cleaner for the visulization. "
   ]
  },
  {
   "cell_type": "code",
   "execution_count": 20,
   "metadata": {},
   "outputs": [],
   "source": [
    "StroopData <- StroopDataRaw %>% \n",
    "        dplyr::mutate(\n",
    "        color_match = \n",
    "            case_when(color_match == 1 ~ \"compatible\",\n",
    "                      color_match == 0 ~ \"incompatible\"),\n",
    "        status = \n",
    "            case_when(status == 1 ~ \"correct\",\n",
    "                      status == 2 ~ \"wrong\",\n",
    "                      status == 3 ~ \"timeout\"))"
   ]
  },
  {
   "cell_type": "markdown",
   "metadata": {},
   "source": [
    "This looks like the data are imported and coded correctly. I've included the table below to show the crosstabs of `color_match` and `status`."
   ]
  },
  {
   "cell_type": "code",
   "execution_count": 21,
   "metadata": {},
   "outputs": [
    {
     "data": {
      "text/html": [
       "<table>\n",
       "<caption>A tibble: 2 × 3</caption>\n",
       "<thead>\n",
       "\t<tr><th scope=col>color_match</th><th scope=col>correct</th><th scope=col>wrong</th></tr>\n",
       "\t<tr><th scope=col>&lt;chr&gt;</th><th scope=col>&lt;int&gt;</th><th scope=col>&lt;int&gt;</th></tr>\n",
       "</thead>\n",
       "<tbody>\n",
       "\t<tr><td>compatible  </td><td> 7</td><td>NA</td></tr>\n",
       "\t<tr><td>incompatible</td><td>32</td><td> 1</td></tr>\n",
       "</tbody>\n",
       "</table>\n"
      ],
      "text/latex": [
       "A tibble: 2 × 3\n",
       "\\begin{tabular}{lll}\n",
       " color\\_match & correct & wrong\\\\\n",
       " <chr> & <int> & <int>\\\\\n",
       "\\hline\n",
       "\t compatible   &  7 & NA\\\\\n",
       "\t incompatible & 32 &  1\\\\\n",
       "\\end{tabular}\n"
      ],
      "text/markdown": [
       "\n",
       "A tibble: 2 × 3\n",
       "\n",
       "| color_match &lt;chr&gt; | correct &lt;int&gt; | wrong &lt;int&gt; |\n",
       "|---|---|---|\n",
       "| compatible   |  7 | NA |\n",
       "| incompatible | 32 |  1 |\n",
       "\n"
      ],
      "text/plain": [
       "  color_match  correct wrong\n",
       "1 compatible    7      NA   \n",
       "2 incompatible 32       1   "
      ]
     },
     "metadata": {},
     "output_type": "display_data"
    }
   ],
   "source": [
    "StroopData %>% \n",
    "    dplyr::count(color_match, status) %>% \n",
    "    tidyr::spread(status, n)"
   ]
  },
  {
   "cell_type": "code",
   "execution_count": null,
   "metadata": {},
   "outputs": [],
   "source": []
  }
 ],
 "metadata": {
  "kernelspec": {
   "display_name": "R",
   "language": "R",
   "name": "ir"
  },
  "language_info": {
   "codemirror_mode": "r",
   "file_extension": ".r",
   "mimetype": "text/x-r-source",
   "name": "R",
   "pygments_lexer": "r",
   "version": "3.6.1"
  }
 },
 "nbformat": 4,
 "nbformat_minor": 2
}
